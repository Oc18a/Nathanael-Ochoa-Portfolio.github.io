{
 "cells": [
  {
   "cell_type": "code",
   "execution_count": 1,
   "id": "1ccdc642",
   "metadata": {},
   "outputs": [],
   "source": [
    "# DSC540\n",
    "# Weeks 9 & 10\n",
    "# Milestone 4\n",
    "# Author: Nathanael Ochoa\n",
    "# 05/19/2024"
   ]
  },
  {
   "cell_type": "markdown",
   "id": "8f2da09d",
   "metadata": {},
   "source": [
    "# Connecting to an API/Pulling in the Data and Cleaning/Formatting"
   ]
  },
  {
   "cell_type": "markdown",
   "id": "23bb4f6b",
   "metadata": {},
   "source": [
    "None of the following data is my own and is used for educational purposes. The data is collected from OpenWeather's [Current Weather Data API ](https://openweathermap.org/current). I mush also use OpenWeather's [Geocoding API](https://openweathermap.org/api/geocoding-api) to retrieve Seattle's geographical coordinates, which are required to use the Current Weather Data API. "
   ]
  },
  {
   "cell_type": "code",
   "execution_count": 2,
   "id": "f4215e1a",
   "metadata": {},
   "outputs": [],
   "source": [
    "# import packages\n",
    "import pandas as pd\n",
    "import datetime\n",
    "import requests\n",
    "import json"
   ]
  },
  {
   "cell_type": "code",
   "execution_count": 3,
   "id": "9aef7111",
   "metadata": {},
   "outputs": [],
   "source": [
    "# Retrieve api key from json file\n",
    "with open(\"APIkeys.json\") as f:\n",
    "    keys = json.load(f)\n",
    "    ow_api = keys[\"OpenWeather\"]"
   ]
  },
  {
   "cell_type": "code",
   "execution_count": 4,
   "id": "f4028d69",
   "metadata": {},
   "outputs": [],
   "source": [
    "def getCoordinates():\n",
    "    # My analysis is based in Seattle, WA so these variables are set\n",
    "    city_name = \"Seattle\"\n",
    "    state_code = \"WA\"\n",
    "    country_code = \"US\"\n",
    "    \n",
    "    # Beginning url\n",
    "    beg = \"http://api.openweathermap.org/geo/1.0/direct?q=\"\n",
    "    \n",
    "    # Combine beg, codes, and api key\n",
    "    geo_url = beg + f\"{city_name},{state_code},{country_code}&appid={ow_api}\"\n",
    "    \n",
    "    # Now call the API and store the coordinates into a list\n",
    "    # API call\n",
    "    response = requests.get(geo_url)\n",
    "    if response.status_code == 200:\n",
    "        geo_data = response.json()\n",
    "    else:\n",
    "        print(f\"Data retrieval failted. Status code: {response.status_code}\")\n",
    "        \n",
    "    # Create new list with 'lat' and 'lon' values\n",
    "    geo_list = [{\"lat\": geo_data[0][\"lat\"], \"lon\": geo_data[0][\"lon\"]}]\n",
    "    \n",
    "    return geo_list"
   ]
  },
  {
   "cell_type": "code",
   "execution_count": 5,
   "id": "269b36f5",
   "metadata": {},
   "outputs": [],
   "source": [
    "def getData(): \n",
    "    # Beginning url\n",
    "    beg = \"https://api.openweathermap.org/data/2.5/weather?\"\n",
    "    \n",
    "    # Call getCoordinates to get the 'lat' and 'lon' values\n",
    "    coord = getCoordinates()\n",
    "    \n",
    "    # Latitude\n",
    "    lat = f\"lat={coord[0]['lat']}\"\n",
    "    \n",
    "    # Longitude\n",
    "    lon = f\"&lon={coord[0]['lon']}\"\n",
    "    \n",
    "    # Key and units, temperature units will be in Fahrenheit\n",
    "    end = f\"&appid={ow_api}&units=imperial\"\n",
    "    \n",
    "    # Combine\n",
    "    url = beg + lat + lon + end\n",
    "    \n",
    "    # API call\n",
    "    response = requests.get(url)\n",
    "    if response.status_code == 200:\n",
    "        data = response.json()\n",
    "    else:\n",
    "        print(f\"Data retrieval failted. Status code: {response.status_code}\")\n",
    "        \n",
    "    return data"
   ]
  },
  {
   "cell_type": "code",
   "execution_count": 6,
   "id": "7c61bef9",
   "metadata": {},
   "outputs": [],
   "source": [
    "# Function call that gets API data\n",
    "weather_json = getData()"
   ]
  },
  {
   "cell_type": "code",
   "execution_count": 7,
   "id": "530f3fee",
   "metadata": {},
   "outputs": [
    {
     "data": {
      "text/plain": [
       "{'coord': {'lon': -122.3301, 'lat': 47.6038},\n",
       " 'weather': [{'id': 802,\n",
       "   'main': 'Clouds',\n",
       "   'description': 'scattered clouds',\n",
       "   'icon': '03d'}],\n",
       " 'base': 'stations',\n",
       " 'main': {'temp': 62.98,\n",
       "  'feels_like': 62.08,\n",
       "  'temp_min': 59.43,\n",
       "  'temp_max': 67.32,\n",
       "  'pressure': 1021,\n",
       "  'humidity': 66},\n",
       " 'visibility': 10000,\n",
       " 'wind': {'speed': 10.36, 'deg': 220},\n",
       " 'clouds': {'all': 40},\n",
       " 'dt': 1716838010,\n",
       " 'sys': {'type': 2,\n",
       "  'id': 2041694,\n",
       "  'country': 'US',\n",
       "  'sunrise': 1716812341,\n",
       "  'sunset': 1716868466},\n",
       " 'timezone': -25200,\n",
       " 'id': 5809844,\n",
       " 'name': 'Seattle',\n",
       " 'cod': 200}"
      ]
     },
     "execution_count": 7,
     "metadata": {},
     "output_type": "execute_result"
    }
   ],
   "source": [
    "# View json data\n",
    "weather_json"
   ]
  },
  {
   "cell_type": "code",
   "execution_count": 8,
   "id": "dd415053",
   "metadata": {},
   "outputs": [],
   "source": [
    "# Convert any lists in the JSON data to dictionaries\n",
    "# This will help make sure every item will have its own data frame column\n",
    "for key in weather_json:\n",
    "    if isinstance(weather_json[key], type([])):\n",
    "        weather_json[key] = weather_json[key][0]\n",
    "    else:\n",
    "        pass"
   ]
  },
  {
   "cell_type": "code",
   "execution_count": 9,
   "id": "6730baec",
   "metadata": {},
   "outputs": [
    {
     "data": {
      "text/plain": [
       "{'coord': {'lon': -122.3301, 'lat': 47.6038},\n",
       " 'weather': {'id': 802,\n",
       "  'main': 'Clouds',\n",
       "  'description': 'scattered clouds',\n",
       "  'icon': '03d'},\n",
       " 'base': 'stations',\n",
       " 'main': {'temp': 62.98,\n",
       "  'feels_like': 62.08,\n",
       "  'temp_min': 59.43,\n",
       "  'temp_max': 67.32,\n",
       "  'pressure': 1021,\n",
       "  'humidity': 66},\n",
       " 'visibility': 10000,\n",
       " 'wind': {'speed': 10.36, 'deg': 220},\n",
       " 'clouds': {'all': 40},\n",
       " 'dt': 1716838010,\n",
       " 'sys': {'type': 2,\n",
       "  'id': 2041694,\n",
       "  'country': 'US',\n",
       "  'sunrise': 1716812341,\n",
       "  'sunset': 1716868466},\n",
       " 'timezone': -25200,\n",
       " 'id': 5809844,\n",
       " 'name': 'Seattle',\n",
       " 'cod': 200}"
      ]
     },
     "execution_count": 9,
     "metadata": {},
     "output_type": "execute_result"
    }
   ],
   "source": [
    "# View changes\n",
    "weather_json"
   ]
  },
  {
   "cell_type": "code",
   "execution_count": 10,
   "id": "d8606551",
   "metadata": {},
   "outputs": [],
   "source": [
    "# Convert to a data frame\n",
    "api_data = pd.json_normalize(weather_json)"
   ]
  },
  {
   "cell_type": "code",
   "execution_count": 11,
   "id": "473017cc",
   "metadata": {},
   "outputs": [
    {
     "data": {
      "text/html": [
       "<div>\n",
       "<style scoped>\n",
       "    .dataframe tbody tr th:only-of-type {\n",
       "        vertical-align: middle;\n",
       "    }\n",
       "\n",
       "    .dataframe tbody tr th {\n",
       "        vertical-align: top;\n",
       "    }\n",
       "\n",
       "    .dataframe thead th {\n",
       "        text-align: right;\n",
       "    }\n",
       "</style>\n",
       "<table border=\"1\" class=\"dataframe\">\n",
       "  <thead>\n",
       "    <tr style=\"text-align: right;\">\n",
       "      <th></th>\n",
       "      <th>base</th>\n",
       "      <th>visibility</th>\n",
       "      <th>dt</th>\n",
       "      <th>timezone</th>\n",
       "      <th>id</th>\n",
       "      <th>name</th>\n",
       "      <th>cod</th>\n",
       "      <th>coord.lon</th>\n",
       "      <th>coord.lat</th>\n",
       "      <th>weather.id</th>\n",
       "      <th>...</th>\n",
       "      <th>main.pressure</th>\n",
       "      <th>main.humidity</th>\n",
       "      <th>wind.speed</th>\n",
       "      <th>wind.deg</th>\n",
       "      <th>clouds.all</th>\n",
       "      <th>sys.type</th>\n",
       "      <th>sys.id</th>\n",
       "      <th>sys.country</th>\n",
       "      <th>sys.sunrise</th>\n",
       "      <th>sys.sunset</th>\n",
       "    </tr>\n",
       "  </thead>\n",
       "  <tbody>\n",
       "    <tr>\n",
       "      <th>0</th>\n",
       "      <td>stations</td>\n",
       "      <td>10000</td>\n",
       "      <td>1716838010</td>\n",
       "      <td>-25200</td>\n",
       "      <td>5809844</td>\n",
       "      <td>Seattle</td>\n",
       "      <td>200</td>\n",
       "      <td>-122.3301</td>\n",
       "      <td>47.6038</td>\n",
       "      <td>802</td>\n",
       "      <td>...</td>\n",
       "      <td>1021</td>\n",
       "      <td>66</td>\n",
       "      <td>10.36</td>\n",
       "      <td>220</td>\n",
       "      <td>40</td>\n",
       "      <td>2</td>\n",
       "      <td>2041694</td>\n",
       "      <td>US</td>\n",
       "      <td>1716812341</td>\n",
       "      <td>1716868466</td>\n",
       "    </tr>\n",
       "  </tbody>\n",
       "</table>\n",
       "<p>1 rows × 27 columns</p>\n",
       "</div>"
      ],
      "text/plain": [
       "       base  visibility          dt  timezone       id     name  cod  \\\n",
       "0  stations       10000  1716838010    -25200  5809844  Seattle  200   \n",
       "\n",
       "   coord.lon  coord.lat  weather.id  ... main.pressure main.humidity  \\\n",
       "0  -122.3301    47.6038         802  ...          1021            66   \n",
       "\n",
       "  wind.speed  wind.deg  clouds.all  sys.type   sys.id  sys.country  \\\n",
       "0      10.36       220          40         2  2041694           US   \n",
       "\n",
       "   sys.sunrise  sys.sunset  \n",
       "0   1716812341  1716868466  \n",
       "\n",
       "[1 rows x 27 columns]"
      ]
     },
     "execution_count": 11,
     "metadata": {},
     "output_type": "execute_result"
    }
   ],
   "source": [
    "# View data frame\n",
    "api_data"
   ]
  },
  {
   "cell_type": "code",
   "execution_count": 12,
   "id": "c056cdb8",
   "metadata": {},
   "outputs": [
    {
     "data": {
      "text/plain": [
       "0  base                           stations\n",
       "   visibility                        10000\n",
       "   dt                           1716838010\n",
       "   timezone                         -25200\n",
       "   id                              5809844\n",
       "   name                            Seattle\n",
       "   cod                                 200\n",
       "   coord.lon                     -122.3301\n",
       "   coord.lat                       47.6038\n",
       "   weather.id                          802\n",
       "   weather.main                     Clouds\n",
       "   weather.description    scattered clouds\n",
       "   weather.icon                        03d\n",
       "   main.temp                         62.98\n",
       "   main.feels_like                   62.08\n",
       "   main.temp_min                     59.43\n",
       "   main.temp_max                     67.32\n",
       "   main.pressure                      1021\n",
       "   main.humidity                        66\n",
       "   wind.speed                        10.36\n",
       "   wind.deg                            220\n",
       "   clouds.all                           40\n",
       "   sys.type                              2\n",
       "   sys.id                          2041694\n",
       "   sys.country                          US\n",
       "   sys.sunrise                  1716812341\n",
       "   sys.sunset                   1716868466\n",
       "dtype: object"
      ]
     },
     "execution_count": 12,
     "metadata": {},
     "output_type": "execute_result"
    }
   ],
   "source": [
    "# Better view of the data frame\n",
    "api_data.stack()"
   ]
  },
  {
   "cell_type": "markdown",
   "id": "a8c290f7",
   "metadata": {},
   "source": [
    "## Step 1 - Drop unnecessary columns"
   ]
  },
  {
   "cell_type": "markdown",
   "id": "6e7d4e3e",
   "metadata": {},
   "source": [
    "Certain values/columns are internal parameters so they will be dropped. Others are pointless for this analysis so they will also be dropped."
   ]
  },
  {
   "cell_type": "code",
   "execution_count": 13,
   "id": "aa7bada0",
   "metadata": {},
   "outputs": [],
   "source": [
    "# Drop columns\n",
    "api_data.drop([\"base\", \"visibility\", \"timezone\", \"id\", \"cod\", \"weather.id\", \"weather.icon\", \"main.pressure\", \"main.humidity\", \n",
    "              \"wind.deg\", \"sys.type\", \"sys.id\", \"sys.country\", \"sys.sunrise\", \"sys.sunset\"], axis = 1, inplace = True)"
   ]
  },
  {
   "cell_type": "code",
   "execution_count": 14,
   "id": "1b69c46d",
   "metadata": {},
   "outputs": [
    {
     "data": {
      "text/plain": [
       "0  dt                           1716838010\n",
       "   name                            Seattle\n",
       "   coord.lon                     -122.3301\n",
       "   coord.lat                       47.6038\n",
       "   weather.main                     Clouds\n",
       "   weather.description    scattered clouds\n",
       "   main.temp                         62.98\n",
       "   main.feels_like                   62.08\n",
       "   main.temp_min                     59.43\n",
       "   main.temp_max                     67.32\n",
       "   wind.speed                        10.36\n",
       "   clouds.all                           40\n",
       "dtype: object"
      ]
     },
     "execution_count": 14,
     "metadata": {},
     "output_type": "execute_result"
    }
   ],
   "source": [
    "# View changes\n",
    "api_data.stack()"
   ]
  },
  {
   "cell_type": "markdown",
   "id": "5c1dc23a",
   "metadata": {},
   "source": [
    "## Step 2 - Split the 'dt' column into separate columns"
   ]
  },
  {
   "cell_type": "markdown",
   "id": "a57c8a25",
   "metadata": {},
   "source": [
    "The API documentation states that the **dt** response field is the 'time of data calculation, unix, UTC.' I can get both the time and date from this column. I will create the following columns: **retrieval_date**, **retrieval_time**, **r_date_month**, **r_date_day**, and **r_date_year**."
   ]
  },
  {
   "cell_type": "code",
   "execution_count": 15,
   "id": "aecbf8fb",
   "metadata": {},
   "outputs": [],
   "source": [
    "# Convert the column\n",
    "timestamp = datetime.datetime.fromtimestamp(api_data[\"dt\"].iloc[0])"
   ]
  },
  {
   "cell_type": "code",
   "execution_count": 16,
   "id": "31702ab8",
   "metadata": {},
   "outputs": [],
   "source": [
    "# Create new columns\n",
    "api_data[\"retrieval_date\"] = timestamp.strftime(\"%m-%d-%Y\")\n",
    "api_data[\"retrieval_time\"] = timestamp.strftime(\"%H:%M:%S\")\n",
    "api_data[\"r_date_month\"] = timestamp.strftime(\"%m\")\n",
    "api_data[\"r_date_day\"] = timestamp.strftime(\"%d\")\n",
    "api_data[\"r_date_year\"] = timestamp.strftime(\"%Y\")"
   ]
  },
  {
   "cell_type": "code",
   "execution_count": 17,
   "id": "ba5e7cb0",
   "metadata": {},
   "outputs": [],
   "source": [
    "# Drop 'dt' column\n",
    "api_data.drop([\"dt\"], axis = 1, inplace = True)"
   ]
  },
  {
   "cell_type": "code",
   "execution_count": 18,
   "id": "b7ec43f6",
   "metadata": {},
   "outputs": [
    {
     "data": {
      "text/plain": [
       "0  name                            Seattle\n",
       "   coord.lon                     -122.3301\n",
       "   coord.lat                       47.6038\n",
       "   weather.main                     Clouds\n",
       "   weather.description    scattered clouds\n",
       "   main.temp                         62.98\n",
       "   main.feels_like                   62.08\n",
       "   main.temp_min                     59.43\n",
       "   main.temp_max                     67.32\n",
       "   wind.speed                        10.36\n",
       "   clouds.all                           40\n",
       "   retrieval_date               05-27-2024\n",
       "   retrieval_time                 12:26:50\n",
       "   r_date_month                         05\n",
       "   r_date_day                           27\n",
       "   r_date_year                        2024\n",
       "dtype: object"
      ]
     },
     "execution_count": 18,
     "metadata": {},
     "output_type": "execute_result"
    }
   ],
   "source": [
    "# View changes\n",
    "api_data.stack()"
   ]
  },
  {
   "cell_type": "markdown",
   "id": "0b381e70",
   "metadata": {},
   "source": [
    "## Step 3 - Add a 'state' column"
   ]
  },
  {
   "cell_type": "markdown",
   "id": "9c604ab1",
   "metadata": {},
   "source": [
    "I will add a state column using Washington's state code, WA."
   ]
  },
  {
   "cell_type": "code",
   "execution_count": 19,
   "id": "28a9247a",
   "metadata": {},
   "outputs": [],
   "source": [
    "api_data[\"state\"] = \"WA\""
   ]
  },
  {
   "cell_type": "code",
   "execution_count": 20,
   "id": "9327216f",
   "metadata": {},
   "outputs": [
    {
     "data": {
      "text/plain": [
       "0  name                            Seattle\n",
       "   coord.lon                     -122.3301\n",
       "   coord.lat                       47.6038\n",
       "   weather.main                     Clouds\n",
       "   weather.description    scattered clouds\n",
       "   main.temp                         62.98\n",
       "   main.feels_like                   62.08\n",
       "   main.temp_min                     59.43\n",
       "   main.temp_max                     67.32\n",
       "   wind.speed                        10.36\n",
       "   clouds.all                           40\n",
       "   retrieval_date               05-27-2024\n",
       "   retrieval_time                 12:26:50\n",
       "   r_date_month                         05\n",
       "   r_date_day                           27\n",
       "   r_date_year                        2024\n",
       "   state                                WA\n",
       "dtype: object"
      ]
     },
     "execution_count": 20,
     "metadata": {},
     "output_type": "execute_result"
    }
   ],
   "source": [
    "# View changes\n",
    "api_data.stack()"
   ]
  },
  {
   "cell_type": "markdown",
   "id": "dc3ad0b0",
   "metadata": {},
   "source": [
    "## Step 4 - Change column headers"
   ]
  },
  {
   "cell_type": "markdown",
   "id": "25787425",
   "metadata": {},
   "source": [
    "Plenty of the column headers are not simple and easy to read, so I will be changing that. For example, I will change **weather.main** to just **weather**."
   ]
  },
  {
   "cell_type": "code",
   "execution_count": 21,
   "id": "8469ce87",
   "metadata": {},
   "outputs": [],
   "source": [
    "# Rename columns\n",
    "api_data.rename(columns = {\"name\": \"city\", \"coord.lon\": \"longitude\", \"coord.lat\": \"latitude\", \"weather.main\": \"current_weather\", \n",
    "                          \"weather.description\": \"w_description\", \"main.temp\": \"temperature\", \n",
    "                           \"main.feels_like\": \"temp_feels_like\", \"main.temp_min\": \"min_temp\", \"main.temp_max\": \"max_temp\",\n",
    "                          \"wind.speed\": \"wind_speed_mph\", \"clouds.all\": \"cloudiness_%\"}, inplace = True)"
   ]
  },
  {
   "cell_type": "code",
   "execution_count": 22,
   "id": "0e9ec731",
   "metadata": {},
   "outputs": [
    {
     "data": {
      "text/plain": [
       "0  city                        Seattle\n",
       "   longitude                 -122.3301\n",
       "   latitude                    47.6038\n",
       "   current_weather              Clouds\n",
       "   w_description      scattered clouds\n",
       "   temperature                   62.98\n",
       "   temp_feels_like               62.08\n",
       "   min_temp                      59.43\n",
       "   max_temp                      67.32\n",
       "   wind_speed_mph                10.36\n",
       "   cloudiness_%                     40\n",
       "   retrieval_date           05-27-2024\n",
       "   retrieval_time             12:26:50\n",
       "   r_date_month                     05\n",
       "   r_date_day                       27\n",
       "   r_date_year                    2024\n",
       "   state                            WA\n",
       "dtype: object"
      ]
     },
     "execution_count": 22,
     "metadata": {},
     "output_type": "execute_result"
    }
   ],
   "source": [
    "# View changes\n",
    "api_data.stack()"
   ]
  },
  {
   "cell_type": "markdown",
   "id": "0217f073",
   "metadata": {},
   "source": [
    "## Step 5 - Rearrange column order"
   ]
  },
  {
   "cell_type": "markdown",
   "id": "cf082ce4",
   "metadata": {},
   "source": [
    "Everything is looking good so far but the column order is odd, so I will change that."
   ]
  },
  {
   "cell_type": "code",
   "execution_count": 23,
   "id": "8e7c90ac",
   "metadata": {},
   "outputs": [],
   "source": [
    "api_data = api_data[[\"city\", \"state\", \"latitude\", \"longitude\", \"current_weather\", \"w_description\", \"temperature\", \n",
    "                     \"temp_feels_like\", \"min_temp\", \"max_temp\", \"wind_speed_mph\", \"cloudiness_%\", \"retrieval_date\", \n",
    "                     \"retrieval_time\", \"r_date_month\", \"r_date_day\", \"r_date_year\"]]"
   ]
  },
  {
   "cell_type": "code",
   "execution_count": 24,
   "id": "8d9ccc28",
   "metadata": {},
   "outputs": [
    {
     "data": {
      "text/plain": [
       "0  city                        Seattle\n",
       "   state                            WA\n",
       "   latitude                    47.6038\n",
       "   longitude                 -122.3301\n",
       "   current_weather              Clouds\n",
       "   w_description      scattered clouds\n",
       "   temperature                   62.98\n",
       "   temp_feels_like               62.08\n",
       "   min_temp                      59.43\n",
       "   max_temp                      67.32\n",
       "   wind_speed_mph                10.36\n",
       "   cloudiness_%                     40\n",
       "   retrieval_date           05-27-2024\n",
       "   retrieval_time             12:26:50\n",
       "   r_date_month                     05\n",
       "   r_date_day                       27\n",
       "   r_date_year                    2024\n",
       "dtype: object"
      ]
     },
     "execution_count": 24,
     "metadata": {},
     "output_type": "execute_result"
    }
   ],
   "source": [
    "# View changes\n",
    "api_data.stack()"
   ]
  },
  {
   "cell_type": "markdown",
   "id": "d61ae270",
   "metadata": {},
   "source": [
    "## Step 6 - Check column data types"
   ]
  },
  {
   "cell_type": "markdown",
   "id": "c5373d8c",
   "metadata": {},
   "source": [
    "The last thing left to do is check the column data types. There may be some errors or there may be a need to change a column's default type."
   ]
  },
  {
   "cell_type": "code",
   "execution_count": 25,
   "id": "c8fac8ea",
   "metadata": {},
   "outputs": [
    {
     "data": {
      "text/plain": [
       "city                object\n",
       "state               object\n",
       "latitude           float64\n",
       "longitude          float64\n",
       "current_weather     object\n",
       "w_description       object\n",
       "temperature        float64\n",
       "temp_feels_like    float64\n",
       "min_temp           float64\n",
       "max_temp           float64\n",
       "wind_speed_mph     float64\n",
       "cloudiness_%         int64\n",
       "retrieval_date      object\n",
       "retrieval_time      object\n",
       "r_date_month        object\n",
       "r_date_day          object\n",
       "r_date_year         object\n",
       "dtype: object"
      ]
     },
     "execution_count": 25,
     "metadata": {},
     "output_type": "execute_result"
    }
   ],
   "source": [
    "# View column data types\n",
    "api_data.dtypes"
   ]
  },
  {
   "cell_type": "markdown",
   "id": "2e557027",
   "metadata": {},
   "source": [
    "Everything looks good, so I will leave everything as is. I left the date columns as object/str data types in a previous milestone, so I be doing the same this time around as well."
   ]
  },
  {
   "cell_type": "markdown",
   "id": "93a83b57",
   "metadata": {},
   "source": [
    "## View final API data:"
   ]
  },
  {
   "cell_type": "code",
   "execution_count": 26,
   "id": "ab357087",
   "metadata": {},
   "outputs": [
    {
     "data": {
      "text/html": [
       "<div>\n",
       "<style scoped>\n",
       "    .dataframe tbody tr th:only-of-type {\n",
       "        vertical-align: middle;\n",
       "    }\n",
       "\n",
       "    .dataframe tbody tr th {\n",
       "        vertical-align: top;\n",
       "    }\n",
       "\n",
       "    .dataframe thead th {\n",
       "        text-align: right;\n",
       "    }\n",
       "</style>\n",
       "<table border=\"1\" class=\"dataframe\">\n",
       "  <thead>\n",
       "    <tr style=\"text-align: right;\">\n",
       "      <th></th>\n",
       "      <th>city</th>\n",
       "      <th>state</th>\n",
       "      <th>latitude</th>\n",
       "      <th>longitude</th>\n",
       "      <th>current_weather</th>\n",
       "      <th>w_description</th>\n",
       "      <th>temperature</th>\n",
       "      <th>temp_feels_like</th>\n",
       "      <th>min_temp</th>\n",
       "      <th>max_temp</th>\n",
       "      <th>wind_speed_mph</th>\n",
       "      <th>cloudiness_%</th>\n",
       "      <th>retrieval_date</th>\n",
       "      <th>retrieval_time</th>\n",
       "      <th>r_date_month</th>\n",
       "      <th>r_date_day</th>\n",
       "      <th>r_date_year</th>\n",
       "    </tr>\n",
       "  </thead>\n",
       "  <tbody>\n",
       "    <tr>\n",
       "      <th>0</th>\n",
       "      <td>Seattle</td>\n",
       "      <td>WA</td>\n",
       "      <td>47.6038</td>\n",
       "      <td>-122.3301</td>\n",
       "      <td>Clouds</td>\n",
       "      <td>scattered clouds</td>\n",
       "      <td>62.98</td>\n",
       "      <td>62.08</td>\n",
       "      <td>59.43</td>\n",
       "      <td>67.32</td>\n",
       "      <td>10.36</td>\n",
       "      <td>40</td>\n",
       "      <td>05-27-2024</td>\n",
       "      <td>12:26:50</td>\n",
       "      <td>05</td>\n",
       "      <td>27</td>\n",
       "      <td>2024</td>\n",
       "    </tr>\n",
       "  </tbody>\n",
       "</table>\n",
       "</div>"
      ],
      "text/plain": [
       "      city state  latitude  longitude current_weather     w_description  \\\n",
       "0  Seattle    WA   47.6038  -122.3301          Clouds  scattered clouds   \n",
       "\n",
       "   temperature  temp_feels_like  min_temp  max_temp  wind_speed_mph  \\\n",
       "0        62.98            62.08     59.43     67.32           10.36   \n",
       "\n",
       "   cloudiness_% retrieval_date retrieval_time r_date_month r_date_day  \\\n",
       "0            40     05-27-2024       12:26:50           05         27   \n",
       "\n",
       "  r_date_year  \n",
       "0        2024  "
      ]
     },
     "execution_count": 26,
     "metadata": {},
     "output_type": "execute_result"
    }
   ],
   "source": [
    "# View as data frame\n",
    "api_data"
   ]
  },
  {
   "cell_type": "code",
   "execution_count": 27,
   "id": "94e51aea",
   "metadata": {},
   "outputs": [
    {
     "data": {
      "text/plain": [
       "0  city                        Seattle\n",
       "   state                            WA\n",
       "   latitude                    47.6038\n",
       "   longitude                 -122.3301\n",
       "   current_weather              Clouds\n",
       "   w_description      scattered clouds\n",
       "   temperature                   62.98\n",
       "   temp_feels_like               62.08\n",
       "   min_temp                      59.43\n",
       "   max_temp                      67.32\n",
       "   wind_speed_mph                10.36\n",
       "   cloudiness_%                     40\n",
       "   retrieval_date           05-27-2024\n",
       "   retrieval_time             12:26:50\n",
       "   r_date_month                     05\n",
       "   r_date_day                       27\n",
       "   r_date_year                    2024\n",
       "dtype: object"
      ]
     },
     "execution_count": 27,
     "metadata": {},
     "output_type": "execute_result"
    }
   ],
   "source": [
    "# Better view\n",
    "api_data.stack()"
   ]
  },
  {
   "cell_type": "markdown",
   "id": "d250f0ad",
   "metadata": {},
   "source": [
    "I dropped any unnecessary columns and converted the **dt** column into date and time. Other than that, I made no changes to draw any ethical concerns. I also changed the column headers to be 'human-readable'. Once all transformations were completed, I rearranged the columns to ensure the data frame was also 'human-readable'. There were no other changes made, and I made no assumptions while cleaning up the JSON data."
   ]
  },
  {
   "cell_type": "code",
   "execution_count": 28,
   "id": "a1b9efef",
   "metadata": {},
   "outputs": [],
   "source": [
    "# Download as CSV to use in Milestone 5\n",
    "api_data.to_csv(\"M5_api_data.csv\")"
   ]
  },
  {
   "cell_type": "code",
   "execution_count": null,
   "id": "041d2040",
   "metadata": {},
   "outputs": [],
   "source": []
  }
 ],
 "metadata": {
  "kernelspec": {
   "display_name": "Python 3 (ipykernel)",
   "language": "python",
   "name": "python3"
  },
  "language_info": {
   "codemirror_mode": {
    "name": "ipython",
    "version": 3
   },
   "file_extension": ".py",
   "mimetype": "text/x-python",
   "name": "python",
   "nbconvert_exporter": "python",
   "pygments_lexer": "ipython3",
   "version": "3.11.5"
  }
 },
 "nbformat": 4,
 "nbformat_minor": 5
}
