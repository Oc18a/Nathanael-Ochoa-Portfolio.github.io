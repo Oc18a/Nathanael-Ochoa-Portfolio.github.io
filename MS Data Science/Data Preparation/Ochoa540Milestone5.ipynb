{
 "cells": [
  {
   "cell_type": "code",
   "execution_count": 1,
   "id": "c3e55070",
   "metadata": {},
   "outputs": [],
   "source": [
    "# DSC540\n",
    "# Weeks 11 & 12\n",
    "# Milestone 5\n",
    "# Author: Nathanael Ochoa\n",
    "# 06/01/2024"
   ]
  },
  {
   "cell_type": "markdown",
   "id": "d658541f",
   "metadata": {},
   "source": [
    "# Merging the Data and Storing in a Database/Visualizing Data"
   ]
  },
  {
   "cell_type": "markdown",
   "id": "1c36a91a",
   "metadata": {},
   "source": [
    "I went back to the previous milestones and downloaded each of the finalized datasets as CSV files. They will be uploaded and used in this project milestone. \n",
    "\n",
    "Please take note that I am *not* claiming the data as my own but am using it for educational purposes. The links to the data sources can be found in the previous milestones *and* will also be hyperlinked in the summary located at the end of this document."
   ]
  },
  {
   "cell_type": "code",
   "execution_count": 3,
   "id": "d93ed6ab",
   "metadata": {},
   "outputs": [],
   "source": [
    "# Import packages\n",
    "import sqlite3\n",
    "\n",
    "import matplotlib.pyplot as plt\n",
    "import numpy as np\n",
    "import pandas as pd"
   ]
  },
  {
   "cell_type": "code",
   "execution_count": 4,
   "id": "653730b8",
   "metadata": {},
   "outputs": [],
   "source": [
    "# Import data as a data frame, these are the datasets taken from the previous milestones\n",
    "file = pd.read_csv(\"M5_flat_file.csv\")  # Milestone 2\n",
    "html = pd.read_csv(\"M5_html_table.csv\")  # Milestone 3\n",
    "api = pd.read_csv(\"M5_api_data.csv\")  # Milestone 4"
   ]
  },
  {
   "cell_type": "code",
   "execution_count": 5,
   "id": "91cb43db",
   "metadata": {},
   "outputs": [
    {
     "name": "stdout",
     "output_type": "stream",
     "text": [
      "file type: <class 'pandas.core.frame.DataFrame'>\n",
      "html type: <class 'pandas.core.frame.DataFrame'>\n",
      "api type:  <class 'pandas.core.frame.DataFrame'>\n"
     ]
    }
   ],
   "source": [
    "# Type check\n",
    "print(f\"file type: {type(file)}\")\n",
    "print(f\"html type: {type(html)}\")\n",
    "print(f\"api type:  {type(api)}\")"
   ]
  },
  {
   "cell_type": "code",
   "execution_count": 6,
   "id": "625a3c4c",
   "metadata": {},
   "outputs": [
    {
     "data": {
      "text/html": [
       "<div>\n",
       "<style scoped>\n",
       "    .dataframe tbody tr th:only-of-type {\n",
       "        vertical-align: middle;\n",
       "    }\n",
       "\n",
       "    .dataframe tbody tr th {\n",
       "        vertical-align: top;\n",
       "    }\n",
       "\n",
       "    .dataframe thead th {\n",
       "        text-align: right;\n",
       "    }\n",
       "</style>\n",
       "<table border=\"1\" class=\"dataframe\">\n",
       "  <thead>\n",
       "    <tr style=\"text-align: right;\">\n",
       "      <th></th>\n",
       "      <th>Unnamed: 0</th>\n",
       "      <th>date</th>\n",
       "      <th>date_month</th>\n",
       "      <th>date_day</th>\n",
       "      <th>date_year</th>\n",
       "      <th>min_temp</th>\n",
       "      <th>max_temp</th>\n",
       "      <th>rain</th>\n",
       "      <th>rainfall</th>\n",
       "    </tr>\n",
       "  </thead>\n",
       "  <tbody>\n",
       "    <tr>\n",
       "      <th>0</th>\n",
       "      <td>0</td>\n",
       "      <td>01-01-1948</td>\n",
       "      <td>1</td>\n",
       "      <td>1</td>\n",
       "      <td>1948</td>\n",
       "      <td>42</td>\n",
       "      <td>51</td>\n",
       "      <td>True</td>\n",
       "      <td>0.47</td>\n",
       "    </tr>\n",
       "    <tr>\n",
       "      <th>1</th>\n",
       "      <td>1</td>\n",
       "      <td>01-02-1948</td>\n",
       "      <td>1</td>\n",
       "      <td>2</td>\n",
       "      <td>1948</td>\n",
       "      <td>36</td>\n",
       "      <td>45</td>\n",
       "      <td>True</td>\n",
       "      <td>0.59</td>\n",
       "    </tr>\n",
       "    <tr>\n",
       "      <th>2</th>\n",
       "      <td>2</td>\n",
       "      <td>01-03-1948</td>\n",
       "      <td>1</td>\n",
       "      <td>3</td>\n",
       "      <td>1948</td>\n",
       "      <td>35</td>\n",
       "      <td>45</td>\n",
       "      <td>True</td>\n",
       "      <td>0.42</td>\n",
       "    </tr>\n",
       "    <tr>\n",
       "      <th>3</th>\n",
       "      <td>3</td>\n",
       "      <td>01-04-1948</td>\n",
       "      <td>1</td>\n",
       "      <td>4</td>\n",
       "      <td>1948</td>\n",
       "      <td>34</td>\n",
       "      <td>45</td>\n",
       "      <td>True</td>\n",
       "      <td>0.31</td>\n",
       "    </tr>\n",
       "    <tr>\n",
       "      <th>4</th>\n",
       "      <td>4</td>\n",
       "      <td>01-05-1948</td>\n",
       "      <td>1</td>\n",
       "      <td>5</td>\n",
       "      <td>1948</td>\n",
       "      <td>32</td>\n",
       "      <td>45</td>\n",
       "      <td>True</td>\n",
       "      <td>0.17</td>\n",
       "    </tr>\n",
       "    <tr>\n",
       "      <th>...</th>\n",
       "      <td>...</td>\n",
       "      <td>...</td>\n",
       "      <td>...</td>\n",
       "      <td>...</td>\n",
       "      <td>...</td>\n",
       "      <td>...</td>\n",
       "      <td>...</td>\n",
       "      <td>...</td>\n",
       "      <td>...</td>\n",
       "    </tr>\n",
       "    <tr>\n",
       "      <th>25546</th>\n",
       "      <td>25546</td>\n",
       "      <td>12-10-2017</td>\n",
       "      <td>12</td>\n",
       "      <td>10</td>\n",
       "      <td>2017</td>\n",
       "      <td>34</td>\n",
       "      <td>49</td>\n",
       "      <td>False</td>\n",
       "      <td>0.00</td>\n",
       "    </tr>\n",
       "    <tr>\n",
       "      <th>25547</th>\n",
       "      <td>25547</td>\n",
       "      <td>12-11-2017</td>\n",
       "      <td>12</td>\n",
       "      <td>11</td>\n",
       "      <td>2017</td>\n",
       "      <td>29</td>\n",
       "      <td>49</td>\n",
       "      <td>False</td>\n",
       "      <td>0.00</td>\n",
       "    </tr>\n",
       "    <tr>\n",
       "      <th>25548</th>\n",
       "      <td>25548</td>\n",
       "      <td>12-12-2017</td>\n",
       "      <td>12</td>\n",
       "      <td>12</td>\n",
       "      <td>2017</td>\n",
       "      <td>32</td>\n",
       "      <td>46</td>\n",
       "      <td>False</td>\n",
       "      <td>0.00</td>\n",
       "    </tr>\n",
       "    <tr>\n",
       "      <th>25549</th>\n",
       "      <td>25549</td>\n",
       "      <td>12-13-2017</td>\n",
       "      <td>12</td>\n",
       "      <td>13</td>\n",
       "      <td>2017</td>\n",
       "      <td>34</td>\n",
       "      <td>48</td>\n",
       "      <td>False</td>\n",
       "      <td>0.00</td>\n",
       "    </tr>\n",
       "    <tr>\n",
       "      <th>25550</th>\n",
       "      <td>25550</td>\n",
       "      <td>12-14-2017</td>\n",
       "      <td>12</td>\n",
       "      <td>14</td>\n",
       "      <td>2017</td>\n",
       "      <td>36</td>\n",
       "      <td>50</td>\n",
       "      <td>False</td>\n",
       "      <td>0.00</td>\n",
       "    </tr>\n",
       "  </tbody>\n",
       "</table>\n",
       "<p>25551 rows × 9 columns</p>\n",
       "</div>"
      ],
      "text/plain": [
       "       Unnamed: 0        date  date_month  date_day  date_year  min_temp  \\\n",
       "0               0  01-01-1948           1         1       1948        42   \n",
       "1               1  01-02-1948           1         2       1948        36   \n",
       "2               2  01-03-1948           1         3       1948        35   \n",
       "3               3  01-04-1948           1         4       1948        34   \n",
       "4               4  01-05-1948           1         5       1948        32   \n",
       "...           ...         ...         ...       ...        ...       ...   \n",
       "25546       25546  12-10-2017          12        10       2017        34   \n",
       "25547       25547  12-11-2017          12        11       2017        29   \n",
       "25548       25548  12-12-2017          12        12       2017        32   \n",
       "25549       25549  12-13-2017          12        13       2017        34   \n",
       "25550       25550  12-14-2017          12        14       2017        36   \n",
       "\n",
       "       max_temp   rain  rainfall  \n",
       "0            51   True      0.47  \n",
       "1            45   True      0.59  \n",
       "2            45   True      0.42  \n",
       "3            45   True      0.31  \n",
       "4            45   True      0.17  \n",
       "...         ...    ...       ...  \n",
       "25546        49  False      0.00  \n",
       "25547        49  False      0.00  \n",
       "25548        46  False      0.00  \n",
       "25549        48  False      0.00  \n",
       "25550        50  False      0.00  \n",
       "\n",
       "[25551 rows x 9 columns]"
      ]
     },
     "execution_count": 6,
     "metadata": {},
     "output_type": "execute_result"
    }
   ],
   "source": [
    "# Preview file data\n",
    "file"
   ]
  },
  {
   "cell_type": "code",
   "execution_count": 7,
   "id": "c9eabc83",
   "metadata": {},
   "outputs": [
    {
     "data": {
      "text/html": [
       "<div>\n",
       "<style scoped>\n",
       "    .dataframe tbody tr th:only-of-type {\n",
       "        vertical-align: middle;\n",
       "    }\n",
       "\n",
       "    .dataframe tbody tr th {\n",
       "        vertical-align: top;\n",
       "    }\n",
       "\n",
       "    .dataframe thead th {\n",
       "        text-align: right;\n",
       "    }\n",
       "</style>\n",
       "<table border=\"1\" class=\"dataframe\">\n",
       "  <thead>\n",
       "    <tr style=\"text-align: right;\">\n",
       "      <th></th>\n",
       "      <th>Unnamed: 0</th>\n",
       "      <th>location</th>\n",
       "      <th>state</th>\n",
       "      <th>latitude</th>\n",
       "      <th>longitude</th>\n",
       "      <th>elevation</th>\n",
       "      <th>jan</th>\n",
       "      <th>feb</th>\n",
       "      <th>mar</th>\n",
       "      <th>apr</th>\n",
       "      <th>may</th>\n",
       "      <th>jun</th>\n",
       "      <th>jul</th>\n",
       "      <th>aug</th>\n",
       "      <th>sep</th>\n",
       "      <th>oct</th>\n",
       "      <th>nov</th>\n",
       "      <th>dec</th>\n",
       "      <th>total</th>\n",
       "    </tr>\n",
       "  </thead>\n",
       "  <tbody>\n",
       "    <tr>\n",
       "      <th>0</th>\n",
       "      <td>0</td>\n",
       "      <td>Aberdeen 20Nne</td>\n",
       "      <td>WA</td>\n",
       "      <td>47.261</td>\n",
       "      <td>-123.715</td>\n",
       "      <td>132.6</td>\n",
       "      <td>21.16</td>\n",
       "      <td>13.36</td>\n",
       "      <td>15.13</td>\n",
       "      <td>9.43</td>\n",
       "      <td>4.96</td>\n",
       "      <td>4.11</td>\n",
       "      <td>2.08</td>\n",
       "      <td>2.60</td>\n",
       "      <td>5.70</td>\n",
       "      <td>13.04</td>\n",
       "      <td>20.84</td>\n",
       "      <td>21.45</td>\n",
       "      <td>133.86</td>\n",
       "    </tr>\n",
       "    <tr>\n",
       "      <th>1</th>\n",
       "      <td>1</td>\n",
       "      <td>Alpine Meadows</td>\n",
       "      <td>WA</td>\n",
       "      <td>47.780</td>\n",
       "      <td>-121.700</td>\n",
       "      <td>1066.8</td>\n",
       "      <td>23.33</td>\n",
       "      <td>15.72</td>\n",
       "      <td>18.23</td>\n",
       "      <td>14.06</td>\n",
       "      <td>9.44</td>\n",
       "      <td>7.44</td>\n",
       "      <td>3.33</td>\n",
       "      <td>3.75</td>\n",
       "      <td>7.46</td>\n",
       "      <td>16.13</td>\n",
       "      <td>23.04</td>\n",
       "      <td>20.93</td>\n",
       "      <td>162.86</td>\n",
       "    </tr>\n",
       "    <tr>\n",
       "      <th>2</th>\n",
       "      <td>2</td>\n",
       "      <td>Anacortes</td>\n",
       "      <td>WA</td>\n",
       "      <td>48.511</td>\n",
       "      <td>-122.614</td>\n",
       "      <td>6.1</td>\n",
       "      <td>3.93</td>\n",
       "      <td>2.58</td>\n",
       "      <td>2.42</td>\n",
       "      <td>2.06</td>\n",
       "      <td>1.86</td>\n",
       "      <td>1.50</td>\n",
       "      <td>0.76</td>\n",
       "      <td>1.38</td>\n",
       "      <td>1.55</td>\n",
       "      <td>2.78</td>\n",
       "      <td>4.36</td>\n",
       "      <td>3.78</td>\n",
       "      <td>28.96</td>\n",
       "    </tr>\n",
       "    <tr>\n",
       "      <th>3</th>\n",
       "      <td>3</td>\n",
       "      <td>Anacortes 4.9 S</td>\n",
       "      <td>WA</td>\n",
       "      <td>48.420</td>\n",
       "      <td>-122.614</td>\n",
       "      <td>12.2</td>\n",
       "      <td>3.83</td>\n",
       "      <td>2.59</td>\n",
       "      <td>2.19</td>\n",
       "      <td>2.18</td>\n",
       "      <td>2.05</td>\n",
       "      <td>1.31</td>\n",
       "      <td>0.85</td>\n",
       "      <td>0.91</td>\n",
       "      <td>1.33</td>\n",
       "      <td>2.67</td>\n",
       "      <td>4.06</td>\n",
       "      <td>3.48</td>\n",
       "      <td>27.45</td>\n",
       "    </tr>\n",
       "    <tr>\n",
       "      <th>4</th>\n",
       "      <td>4</td>\n",
       "      <td>Arlington</td>\n",
       "      <td>WA</td>\n",
       "      <td>48.200</td>\n",
       "      <td>-122.128</td>\n",
       "      <td>30.5</td>\n",
       "      <td>5.92</td>\n",
       "      <td>4.42</td>\n",
       "      <td>5.00</td>\n",
       "      <td>4.34</td>\n",
       "      <td>3.43</td>\n",
       "      <td>2.66</td>\n",
       "      <td>1.15</td>\n",
       "      <td>1.34</td>\n",
       "      <td>2.49</td>\n",
       "      <td>4.94</td>\n",
       "      <td>7.15</td>\n",
       "      <td>6.15</td>\n",
       "      <td>48.99</td>\n",
       "    </tr>\n",
       "    <tr>\n",
       "      <th>...</th>\n",
       "      <td>...</td>\n",
       "      <td>...</td>\n",
       "      <td>...</td>\n",
       "      <td>...</td>\n",
       "      <td>...</td>\n",
       "      <td>...</td>\n",
       "      <td>...</td>\n",
       "      <td>...</td>\n",
       "      <td>...</td>\n",
       "      <td>...</td>\n",
       "      <td>...</td>\n",
       "      <td>...</td>\n",
       "      <td>...</td>\n",
       "      <td>...</td>\n",
       "      <td>...</td>\n",
       "      <td>...</td>\n",
       "      <td>...</td>\n",
       "      <td>...</td>\n",
       "      <td>...</td>\n",
       "    </tr>\n",
       "    <tr>\n",
       "      <th>331</th>\n",
       "      <td>331</td>\n",
       "      <td>Winthrop 3.5 Wnw</td>\n",
       "      <td>WA</td>\n",
       "      <td>48.494</td>\n",
       "      <td>-120.248</td>\n",
       "      <td>872.6</td>\n",
       "      <td>2.59</td>\n",
       "      <td>1.85</td>\n",
       "      <td>1.65</td>\n",
       "      <td>0.93</td>\n",
       "      <td>1.34</td>\n",
       "      <td>1.15</td>\n",
       "      <td>0.73</td>\n",
       "      <td>0.70</td>\n",
       "      <td>0.75</td>\n",
       "      <td>1.35</td>\n",
       "      <td>2.46</td>\n",
       "      <td>3.14</td>\n",
       "      <td>18.64</td>\n",
       "    </tr>\n",
       "    <tr>\n",
       "      <th>332</th>\n",
       "      <td>332</td>\n",
       "      <td>Yacolt 9.0 N</td>\n",
       "      <td>WA</td>\n",
       "      <td>45.996</td>\n",
       "      <td>-122.399</td>\n",
       "      <td>139.6</td>\n",
       "      <td>15.78</td>\n",
       "      <td>10.85</td>\n",
       "      <td>11.41</td>\n",
       "      <td>9.05</td>\n",
       "      <td>5.45</td>\n",
       "      <td>3.81</td>\n",
       "      <td>0.84</td>\n",
       "      <td>1.14</td>\n",
       "      <td>3.76</td>\n",
       "      <td>9.11</td>\n",
       "      <td>15.14</td>\n",
       "      <td>15.76</td>\n",
       "      <td>102.10</td>\n",
       "    </tr>\n",
       "    <tr>\n",
       "      <th>333</th>\n",
       "      <td>333</td>\n",
       "      <td>Yakima #2</td>\n",
       "      <td>WA</td>\n",
       "      <td>46.586</td>\n",
       "      <td>-120.568</td>\n",
       "      <td>348.1</td>\n",
       "      <td>1.16</td>\n",
       "      <td>0.92</td>\n",
       "      <td>0.68</td>\n",
       "      <td>0.62</td>\n",
       "      <td>0.79</td>\n",
       "      <td>0.61</td>\n",
       "      <td>0.25</td>\n",
       "      <td>0.21</td>\n",
       "      <td>0.33</td>\n",
       "      <td>0.72</td>\n",
       "      <td>0.90</td>\n",
       "      <td>1.41</td>\n",
       "      <td>8.60</td>\n",
       "    </tr>\n",
       "    <tr>\n",
       "      <th>334</th>\n",
       "      <td>334</td>\n",
       "      <td>Yakima 2.5 Wnw</td>\n",
       "      <td>WA</td>\n",
       "      <td>46.609</td>\n",
       "      <td>-120.575</td>\n",
       "      <td>411.2</td>\n",
       "      <td>1.36</td>\n",
       "      <td>1.27</td>\n",
       "      <td>0.77</td>\n",
       "      <td>0.64</td>\n",
       "      <td>1.32</td>\n",
       "      <td>0.61</td>\n",
       "      <td>0.32</td>\n",
       "      <td>0.31</td>\n",
       "      <td>0.34</td>\n",
       "      <td>0.77</td>\n",
       "      <td>1.01</td>\n",
       "      <td>1.52</td>\n",
       "      <td>10.24</td>\n",
       "    </tr>\n",
       "    <tr>\n",
       "      <th>335</th>\n",
       "      <td>335</td>\n",
       "      <td>Yakima Air Terminal</td>\n",
       "      <td>WA</td>\n",
       "      <td>46.568</td>\n",
       "      <td>-120.543</td>\n",
       "      <td>324.3</td>\n",
       "      <td>1.19</td>\n",
       "      <td>0.81</td>\n",
       "      <td>0.64</td>\n",
       "      <td>0.55</td>\n",
       "      <td>0.74</td>\n",
       "      <td>0.50</td>\n",
       "      <td>0.20</td>\n",
       "      <td>0.21</td>\n",
       "      <td>0.23</td>\n",
       "      <td>0.64</td>\n",
       "      <td>0.86</td>\n",
       "      <td>1.44</td>\n",
       "      <td>8.01</td>\n",
       "    </tr>\n",
       "  </tbody>\n",
       "</table>\n",
       "<p>336 rows × 19 columns</p>\n",
       "</div>"
      ],
      "text/plain": [
       "     Unnamed: 0             location state  latitude  longitude  elevation  \\\n",
       "0             0       Aberdeen 20Nne    WA    47.261   -123.715      132.6   \n",
       "1             1       Alpine Meadows    WA    47.780   -121.700     1066.8   \n",
       "2             2            Anacortes    WA    48.511   -122.614        6.1   \n",
       "3             3      Anacortes 4.9 S    WA    48.420   -122.614       12.2   \n",
       "4             4            Arlington    WA    48.200   -122.128       30.5   \n",
       "..          ...                  ...   ...       ...        ...        ...   \n",
       "331         331     Winthrop 3.5 Wnw    WA    48.494   -120.248      872.6   \n",
       "332         332         Yacolt 9.0 N    WA    45.996   -122.399      139.6   \n",
       "333         333            Yakima #2    WA    46.586   -120.568      348.1   \n",
       "334         334       Yakima 2.5 Wnw    WA    46.609   -120.575      411.2   \n",
       "335         335  Yakima Air Terminal    WA    46.568   -120.543      324.3   \n",
       "\n",
       "       jan    feb    mar    apr   may   jun   jul   aug   sep    oct    nov  \\\n",
       "0    21.16  13.36  15.13   9.43  4.96  4.11  2.08  2.60  5.70  13.04  20.84   \n",
       "1    23.33  15.72  18.23  14.06  9.44  7.44  3.33  3.75  7.46  16.13  23.04   \n",
       "2     3.93   2.58   2.42   2.06  1.86  1.50  0.76  1.38  1.55   2.78   4.36   \n",
       "3     3.83   2.59   2.19   2.18  2.05  1.31  0.85  0.91  1.33   2.67   4.06   \n",
       "4     5.92   4.42   5.00   4.34  3.43  2.66  1.15  1.34  2.49   4.94   7.15   \n",
       "..     ...    ...    ...    ...   ...   ...   ...   ...   ...    ...    ...   \n",
       "331   2.59   1.85   1.65   0.93  1.34  1.15  0.73  0.70  0.75   1.35   2.46   \n",
       "332  15.78  10.85  11.41   9.05  5.45  3.81  0.84  1.14  3.76   9.11  15.14   \n",
       "333   1.16   0.92   0.68   0.62  0.79  0.61  0.25  0.21  0.33   0.72   0.90   \n",
       "334   1.36   1.27   0.77   0.64  1.32  0.61  0.32  0.31  0.34   0.77   1.01   \n",
       "335   1.19   0.81   0.64   0.55  0.74  0.50  0.20  0.21  0.23   0.64   0.86   \n",
       "\n",
       "       dec   total  \n",
       "0    21.45  133.86  \n",
       "1    20.93  162.86  \n",
       "2     3.78   28.96  \n",
       "3     3.48   27.45  \n",
       "4     6.15   48.99  \n",
       "..     ...     ...  \n",
       "331   3.14   18.64  \n",
       "332  15.76  102.10  \n",
       "333   1.41    8.60  \n",
       "334   1.52   10.24  \n",
       "335   1.44    8.01  \n",
       "\n",
       "[336 rows x 19 columns]"
      ]
     },
     "execution_count": 7,
     "metadata": {},
     "output_type": "execute_result"
    }
   ],
   "source": [
    "# Preview html data\n",
    "html"
   ]
  },
  {
   "cell_type": "code",
   "execution_count": 8,
   "id": "8a7014cc",
   "metadata": {},
   "outputs": [
    {
     "data": {
      "text/html": [
       "<div>\n",
       "<style scoped>\n",
       "    .dataframe tbody tr th:only-of-type {\n",
       "        vertical-align: middle;\n",
       "    }\n",
       "\n",
       "    .dataframe tbody tr th {\n",
       "        vertical-align: top;\n",
       "    }\n",
       "\n",
       "    .dataframe thead th {\n",
       "        text-align: right;\n",
       "    }\n",
       "</style>\n",
       "<table border=\"1\" class=\"dataframe\">\n",
       "  <thead>\n",
       "    <tr style=\"text-align: right;\">\n",
       "      <th></th>\n",
       "      <th>Unnamed: 0</th>\n",
       "      <th>city</th>\n",
       "      <th>state</th>\n",
       "      <th>latitude</th>\n",
       "      <th>longitude</th>\n",
       "      <th>current_weather</th>\n",
       "      <th>w_description</th>\n",
       "      <th>temperature</th>\n",
       "      <th>temp_feels_like</th>\n",
       "      <th>min_temp</th>\n",
       "      <th>max_temp</th>\n",
       "      <th>wind_speed_mph</th>\n",
       "      <th>cloudiness_%</th>\n",
       "      <th>retrieval_date</th>\n",
       "      <th>retrieval_time</th>\n",
       "      <th>r_date_month</th>\n",
       "      <th>r_date_day</th>\n",
       "      <th>r_date_year</th>\n",
       "    </tr>\n",
       "  </thead>\n",
       "  <tbody>\n",
       "    <tr>\n",
       "      <th>0</th>\n",
       "      <td>0</td>\n",
       "      <td>Seattle</td>\n",
       "      <td>WA</td>\n",
       "      <td>47.6038</td>\n",
       "      <td>-122.3301</td>\n",
       "      <td>Clouds</td>\n",
       "      <td>scattered clouds</td>\n",
       "      <td>62.98</td>\n",
       "      <td>62.08</td>\n",
       "      <td>59.43</td>\n",
       "      <td>67.32</td>\n",
       "      <td>10.36</td>\n",
       "      <td>40</td>\n",
       "      <td>05-27-2024</td>\n",
       "      <td>12:26:50</td>\n",
       "      <td>5</td>\n",
       "      <td>27</td>\n",
       "      <td>2024</td>\n",
       "    </tr>\n",
       "  </tbody>\n",
       "</table>\n",
       "</div>"
      ],
      "text/plain": [
       "   Unnamed: 0     city state  latitude  longitude current_weather  \\\n",
       "0           0  Seattle    WA   47.6038  -122.3301          Clouds   \n",
       "\n",
       "      w_description  temperature  temp_feels_like  min_temp  max_temp  \\\n",
       "0  scattered clouds        62.98            62.08     59.43     67.32   \n",
       "\n",
       "   wind_speed_mph  cloudiness_% retrieval_date retrieval_time  r_date_month  \\\n",
       "0           10.36            40     05-27-2024       12:26:50             5   \n",
       "\n",
       "   r_date_day  r_date_year  \n",
       "0          27         2024  "
      ]
     },
     "execution_count": 8,
     "metadata": {},
     "output_type": "execute_result"
    }
   ],
   "source": [
    "# Preview api data\n",
    "api"
   ]
  },
  {
   "cell_type": "markdown",
   "id": "aac91dc1",
   "metadata": {},
   "source": [
    "There seems to be an extra index column in each of the 3 datasets so I'll drop those columns before starting the SQL portion of this milestone."
   ]
  },
  {
   "cell_type": "code",
   "execution_count": 9,
   "id": "a3318a2f",
   "metadata": {},
   "outputs": [],
   "source": [
    "# Drop extra column\n",
    "for df in [file, html, api]:\n",
    "    df.drop(columns = [\"Unnamed: 0\"], inplace = True)"
   ]
  },
  {
   "cell_type": "code",
   "execution_count": 15,
   "id": "98445cca",
   "metadata": {},
   "outputs": [],
   "source": [
    "# Dictionary containing data frames and their names\n",
    "dataframes = {\"file\": file, \"html\": html, \"api\": api}"
   ]
  },
  {
   "cell_type": "code",
   "execution_count": 17,
   "id": "03ff7532",
   "metadata": {},
   "outputs": [
    {
     "name": "stdout",
     "output_type": "stream",
     "text": [
      "'Unnamed: 0' column in file was dropped!\n",
      "'Unnamed: 0' column in html was dropped!\n",
      "'Unnamed: 0' column in api was dropped!\n"
     ]
    }
   ],
   "source": [
    "# Check if drop loop was successful\n",
    "for name, df in dataframes.items():\n",
    "    if \"Unnamed: 0\" in df.columns:\n",
    "        print(f\"'Unnamed: 0' column in {name} was not dropped...\")\n",
    "    else:\n",
    "        print(f\"'Unnamed: 0' column in {name} was dropped!\")"
   ]
  },
  {
   "cell_type": "markdown",
   "id": "4b44788a",
   "metadata": {},
   "source": [
    "Now that the small error was corrected we can continue with converting these data frames into SQL tables."
   ]
  },
  {
   "cell_type": "code",
   "execution_count": 11,
   "id": "853ad7b0",
   "metadata": {},
   "outputs": [],
   "source": [
    "# Create and connect to a SQLite database\n",
    "conn = sqlite3.connect(\"540_term_project.db\")\n",
    "\n",
    "# Create cursor object\n",
    "cursor = conn.cursor()"
   ]
  },
  {
   "cell_type": "code",
   "execution_count": 19,
   "id": "a377c175",
   "metadata": {},
   "outputs": [],
   "source": [
    "# Convert data frames to SQL tables\n",
    "for name, df in dataframes.items():\n",
    "    df.to_sql(f\"{name}_data\", conn, if_exists = \"replace\", index = False)"
   ]
  },
  {
   "cell_type": "markdown",
   "id": "7e74a14d",
   "metadata": {},
   "source": [
    "## Visualization 1: Yearly Seattle Rainfall Over Time"
   ]
  },
  {
   "cell_type": "markdown",
   "id": "3b368bb2",
   "metadata": {},
   "source": [
    "I wanted to create a bar plot of Seattle's yearly rainfall across the **file_data** table's timeframe, 1948-2017. I selected the **date_year** and used the SQL ROUND and SUM functions on the **rainfall** column to get the total amount of rainfall. "
   ]
  },
  {
   "cell_type": "code",
   "execution_count": 24,
   "id": "959589cb",
   "metadata": {},
   "outputs": [],
   "source": [
    "# This query adds up all of the values in the rainfall column from the file_data table and groups by year. I'm very glad I\n",
    "# split the date into its components\n",
    "query = \"\"\"\n",
    "SELECT date_year, ROUND(SUM(rainfall), 2) AS yearly_rainfall\n",
    "FROM file_data\n",
    "GROUP BY date_year\n",
    "\"\"\""
   ]
  },
  {
   "cell_type": "code",
   "execution_count": 25,
   "id": "0de51e55",
   "metadata": {},
   "outputs": [],
   "source": [
    "# Save the returned query data as a data frame\n",
    "viz1 = pd.read_sql_query(query, conn)"
   ]
  },
  {
   "cell_type": "code",
   "execution_count": 26,
   "id": "28329718",
   "metadata": {},
   "outputs": [
    {
     "data": {
      "text/html": [
       "<div>\n",
       "<style scoped>\n",
       "    .dataframe tbody tr th:only-of-type {\n",
       "        vertical-align: middle;\n",
       "    }\n",
       "\n",
       "    .dataframe tbody tr th {\n",
       "        vertical-align: top;\n",
       "    }\n",
       "\n",
       "    .dataframe thead th {\n",
       "        text-align: right;\n",
       "    }\n",
       "</style>\n",
       "<table border=\"1\" class=\"dataframe\">\n",
       "  <thead>\n",
       "    <tr style=\"text-align: right;\">\n",
       "      <th></th>\n",
       "      <th>date_year</th>\n",
       "      <th>yearly_rainfall</th>\n",
       "    </tr>\n",
       "  </thead>\n",
       "  <tbody>\n",
       "    <tr>\n",
       "      <th>0</th>\n",
       "      <td>1948</td>\n",
       "      <td>45.79</td>\n",
       "    </tr>\n",
       "    <tr>\n",
       "      <th>1</th>\n",
       "      <td>1949</td>\n",
       "      <td>32.46</td>\n",
       "    </tr>\n",
       "    <tr>\n",
       "      <th>2</th>\n",
       "      <td>1950</td>\n",
       "      <td>55.14</td>\n",
       "    </tr>\n",
       "    <tr>\n",
       "      <th>3</th>\n",
       "      <td>1951</td>\n",
       "      <td>40.30</td>\n",
       "    </tr>\n",
       "    <tr>\n",
       "      <th>4</th>\n",
       "      <td>1952</td>\n",
       "      <td>23.78</td>\n",
       "    </tr>\n",
       "  </tbody>\n",
       "</table>\n",
       "</div>"
      ],
      "text/plain": [
       "   date_year  yearly_rainfall\n",
       "0       1948            45.79\n",
       "1       1949            32.46\n",
       "2       1950            55.14\n",
       "3       1951            40.30\n",
       "4       1952            23.78"
      ]
     },
     "execution_count": 26,
     "metadata": {},
     "output_type": "execute_result"
    }
   ],
   "source": [
    "# Preview data frame\n",
    "viz1.head(5)"
   ]
  },
  {
   "cell_type": "code",
   "execution_count": 28,
   "id": "438cf05f",
   "metadata": {},
   "outputs": [
    {
     "data": {
      "image/png": "[encoded data removed]",
      "text/plain": [
       "<Figure size 640x480 with 1 Axes>"
      ]
     },
     "metadata": {},
     "output_type": "display_data"
    }
   ],
   "source": [
    "# Create bar plot using viz1 data frame\n",
    "plt.bar(viz1[\"date_year\"], viz1[\"yearly_rainfall\"], color = \"lightskyblue\")\n",
    "plt.title(\"Seattle's Yearly Rainfall (1948-2017)\")\n",
    "plt.xlabel(\"Year\")\n",
    "plt.ylabel(\"Rainfall (inches)\")\n",
    "\n",
    "# Show plot\n",
    "plt.show()"
   ]
  },
  {
   "cell_type": "markdown",
   "id": "a89d0fa0",
   "metadata": {},
   "source": [
    "No year has exceeded the rainfall of 1950. However, there is a drop in rainfall that occurs approximately every 4-6 years."
   ]
  },
  {
   "cell_type": "markdown",
   "id": "2d404c4f",
   "metadata": {},
   "source": [
    "## Visualization 2: Monthly Rainfall Trend"
   ]
  },
  {
   "cell_type": "markdown",
   "id": "e3715876",
   "metadata": {},
   "source": [
    "I wanted to show the montly rainfall trend for Seattle, WA, specifically in the area of Seattle-Tacoma International Airport. I chose this area because the data in the **file_data** table was collected there. The query utilizes the **html_data** table, which contains data from 1991 to 2020."
   ]
  },
  {
   "cell_type": "code",
   "execution_count": 29,
   "id": "4471eac6",
   "metadata": {},
   "outputs": [],
   "source": [
    "# This query selects the months of the year from the location 'Seattle Tacoma Intl Ap'\n",
    "query = \"\"\"\n",
    "SELECT jan, feb, mar, apr, may, jun, jul, aug, sep, oct, nov, dec\n",
    "FROM html_data\n",
    "WHERE location = 'Seattle Tacoma Intl Ap'\n",
    "\"\"\""
   ]
  },
  {
   "cell_type": "code",
   "execution_count": 30,
   "id": "96ac97b5",
   "metadata": {},
   "outputs": [],
   "source": [
    "# Save the returned query data as a data frame\n",
    "viz2 = pd.read_sql_query(query, conn)"
   ]
  },
  {
   "cell_type": "code",
   "execution_count": 31,
   "id": "83ffb161",
   "metadata": {},
   "outputs": [
    {
     "data": {
      "text/html": [
       "<div>\n",
       "<style scoped>\n",
       "    .dataframe tbody tr th:only-of-type {\n",
       "        vertical-align: middle;\n",
       "    }\n",
       "\n",
       "    .dataframe tbody tr th {\n",
       "        vertical-align: top;\n",
       "    }\n",
       "\n",
       "    .dataframe thead th {\n",
       "        text-align: right;\n",
       "    }\n",
       "</style>\n",
       "<table border=\"1\" class=\"dataframe\">\n",
       "  <thead>\n",
       "    <tr style=\"text-align: right;\">\n",
       "      <th></th>\n",
       "      <th>jan</th>\n",
       "      <th>feb</th>\n",
       "      <th>mar</th>\n",
       "      <th>apr</th>\n",
       "      <th>may</th>\n",
       "      <th>jun</th>\n",
       "      <th>jul</th>\n",
       "      <th>aug</th>\n",
       "      <th>sep</th>\n",
       "      <th>oct</th>\n",
       "      <th>nov</th>\n",
       "      <th>dec</th>\n",
       "    </tr>\n",
       "  </thead>\n",
       "  <tbody>\n",
       "    <tr>\n",
       "      <th>0</th>\n",
       "      <td>5.78</td>\n",
       "      <td>3.76</td>\n",
       "      <td>4.17</td>\n",
       "      <td>3.18</td>\n",
       "      <td>1.88</td>\n",
       "      <td>1.45</td>\n",
       "      <td>0.6</td>\n",
       "      <td>0.97</td>\n",
       "      <td>1.61</td>\n",
       "      <td>3.91</td>\n",
       "      <td>6.31</td>\n",
       "      <td>5.72</td>\n",
       "    </tr>\n",
       "  </tbody>\n",
       "</table>\n",
       "</div>"
      ],
      "text/plain": [
       "    jan   feb   mar   apr   may   jun  jul   aug   sep   oct   nov   dec\n",
       "0  5.78  3.76  4.17  3.18  1.88  1.45  0.6  0.97  1.61  3.91  6.31  5.72"
      ]
     },
     "execution_count": 31,
     "metadata": {},
     "output_type": "execute_result"
    }
   ],
   "source": [
    "# Preview data frame\n",
    "viz2"
   ]
  },
  {
   "cell_type": "code",
   "execution_count": 32,
   "id": "8f2f4453",
   "metadata": {},
   "outputs": [
    {
     "data": {
      "image/png": "[encoded data removed]",
      "text/plain": [
       "<Figure size 640x480 with 1 Axes>"
      ]
     },
     "metadata": {},
     "output_type": "display_data"
    }
   ],
   "source": [
    "# Simplify x and y contents to input into plt.plot()\n",
    "x = viz2.columns.tolist()\n",
    "y = viz2.iloc[0].tolist()\n",
    "\n",
    "# Create line plot\n",
    "plt.plot(x, y, marker = \"o\", color = \"lightskyblue\")\n",
    "plt.title(\"Seattle Monthly Rainfall Trend (1991-2020)\")\n",
    "plt.xlabel(\"Month\")\n",
    "plt.ylabel(\"Average Rainfall (inches)\")\n",
    "\n",
    "# Show plot\n",
    "plt.grid(True)\n",
    "plt.tight_layout()\n",
    "plt.show()"
   ]
  },
  {
   "cell_type": "markdown",
   "id": "67828a9b",
   "metadata": {},
   "source": [
    "The amount of rainfall decreases during the warmer times of the year and increases during the winter and spring. I live in Southern California, so this plot is not too different from what I'd expect here at home. However, seeing some rainfall in Seattle during the summer months is very interesting."
   ]
  },
  {
   "cell_type": "markdown",
   "id": "a5c7aa77",
   "metadata": {},
   "source": [
    "## Visualization 3: Monthly Temperature Trends"
   ]
  },
  {
   "cell_type": "markdown",
   "id": "490fb010",
   "metadata": {},
   "source": [
    "I wanted to create a plot showing the monthly temperature trends to complement the previously created plot. This query will use the temperature data from the **file_data** table, but unfortunately, it only contains data from the years 1991 to 2017."
   ]
  },
  {
   "cell_type": "code",
   "execution_count": 33,
   "id": "d79a69db",
   "metadata": {},
   "outputs": [],
   "source": [
    "# This query calculates the average of the min_temp and max_temp columns and uses a GROUP BY to group the calculations by the\n",
    "# months of the year. The query also uses a filter to ensure only data from 1991 and onwards is used.\n",
    "query = \"\"\"\n",
    "SELECT date_month, ROUND(AVG(min_temp), 2) AS monthly_min, ROUND(AVG(max_temp), 2) AS monthly_max\n",
    "FROM file_data\n",
    "WHERE date_year >= 1991\n",
    "GROUP BY date_month\n",
    "\"\"\""
   ]
  },
  {
   "cell_type": "code",
   "execution_count": 34,
   "id": "9b563aa8",
   "metadata": {},
   "outputs": [],
   "source": [
    "# Save the returned query data as a data frame\n",
    "viz3 = pd.read_sql_query(query, conn)"
   ]
  },
  {
   "cell_type": "code",
   "execution_count": 35,
   "id": "9ef8d25a",
   "metadata": {},
   "outputs": [
    {
     "data": {
      "text/html": [
       "<div>\n",
       "<style scoped>\n",
       "    .dataframe tbody tr th:only-of-type {\n",
       "        vertical-align: middle;\n",
       "    }\n",
       "\n",
       "    .dataframe tbody tr th {\n",
       "        vertical-align: top;\n",
       "    }\n",
       "\n",
       "    .dataframe thead th {\n",
       "        text-align: right;\n",
       "    }\n",
       "</style>\n",
       "<table border=\"1\" class=\"dataframe\">\n",
       "  <thead>\n",
       "    <tr style=\"text-align: right;\">\n",
       "      <th></th>\n",
       "      <th>date_month</th>\n",
       "      <th>monthly_min</th>\n",
       "      <th>monthly_max</th>\n",
       "    </tr>\n",
       "  </thead>\n",
       "  <tbody>\n",
       "    <tr>\n",
       "      <th>0</th>\n",
       "      <td>1</td>\n",
       "      <td>36.85</td>\n",
       "      <td>46.76</td>\n",
       "    </tr>\n",
       "    <tr>\n",
       "      <th>1</th>\n",
       "      <td>2</td>\n",
       "      <td>37.39</td>\n",
       "      <td>49.78</td>\n",
       "    </tr>\n",
       "    <tr>\n",
       "      <th>2</th>\n",
       "      <td>3</td>\n",
       "      <td>39.54</td>\n",
       "      <td>53.22</td>\n",
       "    </tr>\n",
       "    <tr>\n",
       "      <th>3</th>\n",
       "      <td>4</td>\n",
       "      <td>42.63</td>\n",
       "      <td>58.19</td>\n",
       "    </tr>\n",
       "    <tr>\n",
       "      <th>4</th>\n",
       "      <td>5</td>\n",
       "      <td>47.89</td>\n",
       "      <td>64.92</td>\n",
       "    </tr>\n",
       "    <tr>\n",
       "      <th>5</th>\n",
       "      <td>6</td>\n",
       "      <td>52.44</td>\n",
       "      <td>70.00</td>\n",
       "    </tr>\n",
       "    <tr>\n",
       "      <th>6</th>\n",
       "      <td>7</td>\n",
       "      <td>56.27</td>\n",
       "      <td>76.32</td>\n",
       "    </tr>\n",
       "    <tr>\n",
       "      <th>7</th>\n",
       "      <td>8</td>\n",
       "      <td>56.57</td>\n",
       "      <td>76.52</td>\n",
       "    </tr>\n",
       "    <tr>\n",
       "      <th>8</th>\n",
       "      <td>9</td>\n",
       "      <td>52.84</td>\n",
       "      <td>70.67</td>\n",
       "    </tr>\n",
       "    <tr>\n",
       "      <th>9</th>\n",
       "      <td>10</td>\n",
       "      <td>46.50</td>\n",
       "      <td>59.60</td>\n",
       "    </tr>\n",
       "    <tr>\n",
       "      <th>10</th>\n",
       "      <td>11</td>\n",
       "      <td>40.21</td>\n",
       "      <td>51.02</td>\n",
       "    </tr>\n",
       "    <tr>\n",
       "      <th>11</th>\n",
       "      <td>12</td>\n",
       "      <td>36.27</td>\n",
       "      <td>45.83</td>\n",
       "    </tr>\n",
       "  </tbody>\n",
       "</table>\n",
       "</div>"
      ],
      "text/plain": [
       "    date_month  monthly_min  monthly_max\n",
       "0            1        36.85        46.76\n",
       "1            2        37.39        49.78\n",
       "2            3        39.54        53.22\n",
       "3            4        42.63        58.19\n",
       "4            5        47.89        64.92\n",
       "5            6        52.44        70.00\n",
       "6            7        56.27        76.32\n",
       "7            8        56.57        76.52\n",
       "8            9        52.84        70.67\n",
       "9           10        46.50        59.60\n",
       "10          11        40.21        51.02\n",
       "11          12        36.27        45.83"
      ]
     },
     "execution_count": 35,
     "metadata": {},
     "output_type": "execute_result"
    }
   ],
   "source": [
    "# Preview data frame\n",
    "viz3"
   ]
  },
  {
   "cell_type": "code",
   "execution_count": 36,
   "id": "fee90c4a",
   "metadata": {},
   "outputs": [
    {
     "data": {
      "image/png": "[encoded data removed]",
      "text/plain": [
       "<Figure size 640x480 with 1 Axes>"
      ]
     },
     "metadata": {},
     "output_type": "display_data"
    }
   ],
   "source": [
    "# Create min and max temperature plots\n",
    "plt.plot(viz3[\"date_month\"], viz3[\"monthly_max\"], label = \"Max. Temperature\", color = \"red\")\n",
    "plt.plot(viz3[\"date_month\"], viz3[\"monthly_min\"], label = \"Min. Temperature\", color = \"blue\")\n",
    "plt.title(\"Seattle Monthly Temperature Trend (1991-2017)\")\n",
    "plt.xlabel(\"Month\")\n",
    "plt.ylabel(\"Average Temperature (°F)\")\n",
    "\n",
    "# Show plot\n",
    "plt.legend()\n",
    "plt.grid(True)\n",
    "plt.xticks(np.arange(1, 13, 1))  # Shows all 12 ticks on the x-axis\n",
    "plt.tight_layout()\n",
    "plt.show()"
   ]
  },
  {
   "cell_type": "markdown",
   "id": "babc79ff",
   "metadata": {},
   "source": [
    "As expected, the temperature rises during the summer months and drops during the winter and spring, resembling a bell curve."
   ]
  },
  {
   "cell_type": "markdown",
   "id": "3df6a078",
   "metadata": {},
   "source": [
    "## Visualization 4: Comparing May 27th Across the Years"
   ]
  },
  {
   "cell_type": "markdown",
   "id": "fd989748",
   "metadata": {},
   "source": [
    "The **api_data** table contains API data from 5/27/24. I wanted to compare the percentage of days with rain and without rain in the past."
   ]
  },
  {
   "cell_type": "code",
   "execution_count": 38,
   "id": "7a241962",
   "metadata": {},
   "outputs": [],
   "source": [
    "# This is a simple query that selects date, date_year, and rain columns on the date 5/27\n",
    "query = \"\"\"\n",
    "SELECT date, date_year, rain \n",
    "FROM file_data\n",
    "WHERE date_month = 5\n",
    "AND date_day = 27\n",
    "\"\"\""
   ]
  },
  {
   "cell_type": "code",
   "execution_count": 39,
   "id": "936bffc7",
   "metadata": {},
   "outputs": [],
   "source": [
    "# Save the returned query data as a data frame\n",
    "viz4 = pd.read_sql_query(query, conn)"
   ]
  },
  {
   "cell_type": "code",
   "execution_count": 40,
   "id": "a207b58a",
   "metadata": {},
   "outputs": [
    {
     "data": {
      "text/html": [
       "<div>\n",
       "<style scoped>\n",
       "    .dataframe tbody tr th:only-of-type {\n",
       "        vertical-align: middle;\n",
       "    }\n",
       "\n",
       "    .dataframe tbody tr th {\n",
       "        vertical-align: top;\n",
       "    }\n",
       "\n",
       "    .dataframe thead th {\n",
       "        text-align: right;\n",
       "    }\n",
       "</style>\n",
       "<table border=\"1\" class=\"dataframe\">\n",
       "  <thead>\n",
       "    <tr style=\"text-align: right;\">\n",
       "      <th></th>\n",
       "      <th>date</th>\n",
       "      <th>date_year</th>\n",
       "      <th>rain</th>\n",
       "    </tr>\n",
       "  </thead>\n",
       "  <tbody>\n",
       "    <tr>\n",
       "      <th>0</th>\n",
       "      <td>05-27-1948</td>\n",
       "      <td>1948</td>\n",
       "      <td>1</td>\n",
       "    </tr>\n",
       "    <tr>\n",
       "      <th>1</th>\n",
       "      <td>05-27-1949</td>\n",
       "      <td>1949</td>\n",
       "      <td>1</td>\n",
       "    </tr>\n",
       "    <tr>\n",
       "      <th>2</th>\n",
       "      <td>05-27-1950</td>\n",
       "      <td>1950</td>\n",
       "      <td>1</td>\n",
       "    </tr>\n",
       "    <tr>\n",
       "      <th>3</th>\n",
       "      <td>05-27-1951</td>\n",
       "      <td>1951</td>\n",
       "      <td>0</td>\n",
       "    </tr>\n",
       "    <tr>\n",
       "      <th>4</th>\n",
       "      <td>05-27-1952</td>\n",
       "      <td>1952</td>\n",
       "      <td>0</td>\n",
       "    </tr>\n",
       "  </tbody>\n",
       "</table>\n",
       "</div>"
      ],
      "text/plain": [
       "         date  date_year  rain\n",
       "0  05-27-1948       1948     1\n",
       "1  05-27-1949       1949     1\n",
       "2  05-27-1950       1950     1\n",
       "3  05-27-1951       1951     0\n",
       "4  05-27-1952       1952     0"
      ]
     },
     "execution_count": 40,
     "metadata": {},
     "output_type": "execute_result"
    }
   ],
   "source": [
    "# Preview data frame\n",
    "viz4.head(5)"
   ]
  },
  {
   "cell_type": "code",
   "execution_count": 41,
   "id": "de46ba45",
   "metadata": {},
   "outputs": [
    {
     "data": {
      "image/png": "[encoded data removed]",
      "text/plain": [
       "<Figure size 640x480 with 1 Axes>"
      ]
     },
     "metadata": {},
     "output_type": "display_data"
    }
   ],
   "source": [
    "# Calculate the days it rained and days it did not\n",
    "rain_years = viz4[\"rain\"].sum()\n",
    "no_rain_years = len(viz4) - rain_years\n",
    "\n",
    "# Create pie chart labels\n",
    "labels = [\"Rainy Years\", \"Non-Rainy Years\"]\n",
    "sizes = [rain_years, no_rain_years]\n",
    "colors = [\"lightskyblue\", \"lightcoral\"]\n",
    "\n",
    "# Create pie chart\n",
    "plt.pie(sizes, labels = labels, colors = colors, autopct = \"%1.2f%%\", startangle = 140)\n",
    "plt.title(\"Proportion of Rainy and Non-Rainy Years on May 27th (1948-2017)\")\n",
    "plt.axis(\"equal\")\n",
    "\n",
    "# Show plot\n",
    "plt.tight_layout()\n",
    "plt.show()"
   ]
  },
  {
   "cell_type": "markdown",
   "id": "d92b45ca",
   "metadata": {},
   "source": [
    "Now let's take a look at the API data from May 27th:"
   ]
  },
  {
   "cell_type": "code",
   "execution_count": 55,
   "id": "2d90d31b",
   "metadata": {},
   "outputs": [],
   "source": [
    "# View current weather data from 5/27/2024\n",
    "query = \"\"\"\n",
    "SELECT current_weather, retrieval_date\n",
    "FROM api_data\n",
    "\"\"\""
   ]
  },
  {
   "cell_type": "code",
   "execution_count": 56,
   "id": "b6b0e445",
   "metadata": {},
   "outputs": [],
   "source": [
    "# Execute SQL query and fetch all rows from the executed query\n",
    "check = cursor.execute(query).fetchall()"
   ]
  },
  {
   "cell_type": "code",
   "execution_count": 57,
   "id": "c1853360",
   "metadata": {},
   "outputs": [
    {
     "name": "stdout",
     "output_type": "stream",
     "text": [
      "('Clouds', '05-27-2024')\n"
     ]
    }
   ],
   "source": [
    "# Iterate through the rows and print each returned row, the returned data will be the current weather and date of retrieval\n",
    "for row in check:\n",
    "    print(row)"
   ]
  },
  {
   "cell_type": "markdown",
   "id": "fa23fdab",
   "metadata": {},
   "source": [
    "There is no rain value in the API data. Therefore, if someone were to interpret the pie chart and conclude that it is most likely not to rain in Seattle, WA on May 27th, then they would be correct."
   ]
  },
  {
   "cell_type": "markdown",
   "id": "cb4a6ed7",
   "metadata": {},
   "source": [
    "## Visualization 5: Comparing Rainy Days and Non-Rainy Days on May 27th"
   ]
  },
  {
   "cell_type": "markdown",
   "id": "159c69e5",
   "metadata": {},
   "source": [
    "I wanted to further analyze the temperature comparisons and visualize the temperatures on the days it rained and the days it did not rain. This analysis still focuses on May 27th as the date."
   ]
  },
  {
   "cell_type": "code",
   "execution_count": 65,
   "id": "b0f29a77",
   "metadata": {},
   "outputs": [],
   "source": [
    "# This is a simple query that selects date_year, min_temp, max_temp, and rain columns on the date 5/27\n",
    "query = \"\"\"\n",
    "SELECT date_year, min_temp, max_temp, rain\n",
    "FROM file_data\n",
    "WHERE date_month = 5\n",
    "AND date_day = 27\n",
    "\"\"\""
   ]
  },
  {
   "cell_type": "code",
   "execution_count": 66,
   "id": "6623f132",
   "metadata": {},
   "outputs": [],
   "source": [
    "# Save the returned query data as a data frame\n",
    "viz5 = pd.read_sql_query(query, conn)"
   ]
  },
  {
   "cell_type": "code",
   "execution_count": 67,
   "id": "6e2239fc",
   "metadata": {},
   "outputs": [
    {
     "data": {
      "text/html": [
       "<div>\n",
       "<style scoped>\n",
       "    .dataframe tbody tr th:only-of-type {\n",
       "        vertical-align: middle;\n",
       "    }\n",
       "\n",
       "    .dataframe tbody tr th {\n",
       "        vertical-align: top;\n",
       "    }\n",
       "\n",
       "    .dataframe thead th {\n",
       "        text-align: right;\n",
       "    }\n",
       "</style>\n",
       "<table border=\"1\" class=\"dataframe\">\n",
       "  <thead>\n",
       "    <tr style=\"text-align: right;\">\n",
       "      <th></th>\n",
       "      <th>date_year</th>\n",
       "      <th>min_temp</th>\n",
       "      <th>max_temp</th>\n",
       "      <th>rain</th>\n",
       "    </tr>\n",
       "  </thead>\n",
       "  <tbody>\n",
       "    <tr>\n",
       "      <th>0</th>\n",
       "      <td>1948</td>\n",
       "      <td>50</td>\n",
       "      <td>60</td>\n",
       "      <td>1</td>\n",
       "    </tr>\n",
       "    <tr>\n",
       "      <th>1</th>\n",
       "      <td>1949</td>\n",
       "      <td>51</td>\n",
       "      <td>61</td>\n",
       "      <td>1</td>\n",
       "    </tr>\n",
       "    <tr>\n",
       "      <th>2</th>\n",
       "      <td>1950</td>\n",
       "      <td>47</td>\n",
       "      <td>60</td>\n",
       "      <td>1</td>\n",
       "    </tr>\n",
       "    <tr>\n",
       "      <th>3</th>\n",
       "      <td>1951</td>\n",
       "      <td>44</td>\n",
       "      <td>62</td>\n",
       "      <td>0</td>\n",
       "    </tr>\n",
       "    <tr>\n",
       "      <th>4</th>\n",
       "      <td>1952</td>\n",
       "      <td>49</td>\n",
       "      <td>80</td>\n",
       "      <td>0</td>\n",
       "    </tr>\n",
       "  </tbody>\n",
       "</table>\n",
       "</div>"
      ],
      "text/plain": [
       "   date_year  min_temp  max_temp  rain\n",
       "0       1948        50        60     1\n",
       "1       1949        51        61     1\n",
       "2       1950        47        60     1\n",
       "3       1951        44        62     0\n",
       "4       1952        49        80     0"
      ]
     },
     "execution_count": 67,
     "metadata": {},
     "output_type": "execute_result"
    }
   ],
   "source": [
    "# Preview data frame\n",
    "viz5.head(5)"
   ]
  },
  {
   "cell_type": "code",
   "execution_count": 74,
   "id": "72ad777a",
   "metadata": {},
   "outputs": [
    {
     "data": {
      "image/png": "[encoded data removed]",
      "text/plain": [
       "<Figure size 1200x600 with 2 Axes>"
      ]
     },
     "metadata": {},
     "output_type": "display_data"
    }
   ],
   "source": [
    "# Simplify x and y contents to input into plt.plot()\n",
    "rain_date = viz5[viz5[\"rain\"] == 1][\"date_year\"]\n",
    "rain_min = viz5[viz5[\"rain\"] == 1][\"min_temp\"]\n",
    "rain_max = viz5[viz5[\"rain\"] == 1][\"max_temp\"]\n",
    "\n",
    "no_rain_date = viz5[viz5[\"rain\"] == 0][\"date_year\"]\n",
    "no_rain_min = viz5[viz5[\"rain\"] == 0][\"min_temp\"]\n",
    "no_rain_max = viz5[viz5[\"rain\"] == 0][\"max_temp\"]\n",
    "\n",
    "# Create the subplot layout\n",
    "fig, axes = plt.subplots(1, 2, figsize = (12, 6))\n",
    "\n",
    "# Create subplots\n",
    "# Left plot\n",
    "plt.subplot(1, 2, 1)\n",
    "plt.plot(rain_date, rain_max, marker = \"o\", label = \"Max. Temperature\", color = \"red\")\n",
    "plt.plot(rain_date, rain_min, marker = \"o\",  label = \"Min. Temperature\", color = \"blue\")\n",
    "plt.title(\"Rain on May, 27th\")\n",
    "plt.xlabel(\"Year\")\n",
    "plt.ylabel(\"Temperature (°F)\")\n",
    "plt.ylim(35, 90)  # To ensure grids are the same for comparison\n",
    "plt.legend()\n",
    "plt.grid(True)\n",
    "\n",
    "# Right plot\n",
    "plt.subplot(1, 2, 2)\n",
    "plt.plot(no_rain_date, no_rain_max, marker = \"o\",  label = \"Max. Temperature\", color = \"red\")\n",
    "plt.plot(no_rain_date, no_rain_min, marker = \"o\",  label = \"Min. Temperature\", color = \"blue\")\n",
    "plt.title(\"No Rain on May, 27th\")\n",
    "plt.xlabel(\"Year\")\n",
    "plt.ylabel(\"Temperature (°F)\")\n",
    "plt.ylim(35, 90)  # To ensure grids are the same for comparison\n",
    "plt.legend()\n",
    "plt.grid(True)\n",
    "\n",
    "# Show plots\n",
    "plt.tight_layout()\n",
    "plt.show()"
   ]
  },
  {
   "cell_type": "markdown",
   "id": "3eb6ac9d",
   "metadata": {},
   "source": [
    "It's interesting to note that, on average, the days with no rain had higher maximum temperatures than the days it did rain. Additionally, there has been an increase in temperatures across the years on days it has not rained. Days with rain also exhibit consistent minimum and maximum temperatures."
   ]
  },
  {
   "cell_type": "markdown",
   "id": "5de60dbd",
   "metadata": {},
   "source": [
    "## Summary"
   ]
  },
  {
   "cell_type": "markdown",
   "id": "a5fed057",
   "metadata": {},
   "source": [
    "I learned about the different ways data scientists acquire data, and I was also reminded of how tedious this part of the data science process can be. Although I have never used any web scraping techniques, I have used MySQL before; however, I have never utilized SQL within another programming language. I enjoyed tinkering with SQL within Python, and the fact that data frames are so similar to SQL tables makes things much easier. Since there is no way to create visualizations within SQL, being able to export a SQL query into a data frame for usage in Python is incredibly helpful. Regrettably, I encountered limitations that prevented me from utilizing SQL JOINS or UNIONS to merge the SQL tables. Despite this setback, I successfully generated several insightful plots.\n",
    "\n",
    "Throughout this project, I performed numerous data transformations across the three datasets I utilized. The ultimate goal for each dataset was to achieve a human-readable format. These transformations included dropping unnecessary columns, modifying column headers, splitting date columns into their components, and eliminating null values. All transformations I applied did not alter the data in any way that may raise ethical concerns. I employed straightforward techniques and did not concatenate any columns, which could have posed ethical concerns. Instead, I simply removed columns that would not have significantly contributed to my analysis. Additionally, I ensured that all data was obtained fairly and solely for educational purposes, explicitly stating this at the beginning of every project milestone.\n",
    "\n",
    "The [dataset sourced from Kaggle](https://www.kaggle.com/datasets/rtatman/did-it-rain-in-seattle-19482017) utilizes data compiled by NOAA. The [HTML source](https://ggweather.com/normals/ccd_precip.html#W) cites its information as originating from the National Center for Environmental Information. OpenWeather is an online API service that provides weather data through various APIs, including their [Current Weather](https://openweathermap.org/current) and [Geocoding](https://openweathermap.org/api/geocoding-api) APIs. All sources used in my project are reputable and reliable."
   ]
  },
  {
   "cell_type": "code",
   "execution_count": null,
   "id": "d7a306e9",
   "metadata": {},
   "outputs": [],
   "source": []
  }
 ],
 "metadata": {
  "kernelspec": {
   "display_name": "Python 3 (ipykernel)",
   "language": "python",
   "name": "python3"
  },
  "language_info": {
   "codemirror_mode": {
    "name": "ipython",
    "version": 3
   },
   "file_extension": ".py",
   "mimetype": "text/x-python",
   "name": "python",
   "nbconvert_exporter": "python",
   "pygments_lexer": "ipython3",
   "version": "3.11.5"
  }
 },
 "nbformat": 4,
 "nbformat_minor": 5
}
